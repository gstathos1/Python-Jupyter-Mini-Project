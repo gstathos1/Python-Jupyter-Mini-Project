{
  "nbformat": 4,
  "nbformat_minor": 0,
  "metadata": {
    "colab": {
      "name": "Python Jupyter Mini Project",
      "provenance": [],
      "collapsed_sections": [],
      "authorship_tag": "ABX9TyNc4PMNoJ/gY0LGZQP3/vSZ",
      "include_colab_link": true
    },
    "kernelspec": {
      "name": "python3",
      "display_name": "Python 3"
    },
    "language_info": {
      "name": "python"
    }
  },
  "cells": [
    {
      "cell_type": "markdown",
      "metadata": {
        "id": "view-in-github",
        "colab_type": "text"
      },
      "source": [
        "<a href=\"https://colab.research.google.com/github/gstathos1/Python-Jupyter-Mini-Project/blob/main/Python_Jupyter_Mini_Project.ipynb\" target=\"_parent\"><img src=\"https://colab.research.google.com/assets/colab-badge.svg\" alt=\"Open In Colab\"/></a>"
      ]
    },
    {
      "cell_type": "code",
      "source": [
        "import matplotlib.pyplot as plt\n",
        "import os"
      ],
      "metadata": {
        "id": "B8IpedS47Nd5"
      },
      "execution_count": null,
      "outputs": []
    },
    {
      "cell_type": "markdown",
      "source": [
        "Matplotlib is a cross-platform, data visualization and graphical plotting library for Python and its numerical extension NumPy (www.activestate.com). It is what I used to later create a graph."
      ],
      "metadata": {
        "id": "bNWUyAZXSYts"
      }
    },
    {
      "cell_type": "code",
      "metadata": {
        "id": "Mm_QhZV93eKC",
        "colab": {
          "base_uri": "https://localhost:8080/"
        },
        "outputId": "f799a20d-c9b8-48be-f39c-ee0e0125e4dc"
      },
      "source": [
        "from google.colab import drive\n",
        "drive.mount('/content/drive')"
      ],
      "execution_count": null,
      "outputs": [
        {
          "output_type": "stream",
          "name": "stdout",
          "text": [
            "Drive already mounted at /content/drive; to attempt to forcibly remount, call drive.mount(\"/content/drive\", force_remount=True).\n"
          ]
        }
      ]
    },
    {
      "cell_type": "markdown",
      "source": [
        "The original csv file I used that is actually being analyzed by this code is located in my Google Drive, so this line allows Google Drive to access my Drive."
      ],
      "metadata": {
        "id": "UNFzjfCFSsiD"
      }
    },
    {
      "cell_type": "code",
      "metadata": {
        "id": "FNzrI5_J3f59"
      },
      "source": [
        "import pandas as pd"
      ],
      "execution_count": null,
      "outputs": []
    },
    {
      "cell_type": "markdown",
      "source": [
        "Here I import pandas, which is a python library for data manipulation and analysis(www.simpllilearn.com)"
      ],
      "metadata": {
        "id": "p0RbVsdMTZkT"
      }
    },
    {
      "cell_type": "code",
      "metadata": {
        "id": "lR206zre-T18"
      },
      "source": [
        "driving_datafilename = '/content/drive/MyDrive/Python Project Speed/driving_data (1).csv'\n",
        "speedlimit_filename = '/content/drive/MyDrive/Python Project Speed/speedlimit (1).csv'\n",
        "output = '/content/drive/MyDrive/Python Project Speed/program_output.csv'\n",
        "graph = '/content/drive/MyDrive/Python Project Speed/speed_graph.pdf'"
      ],
      "execution_count": null,
      "outputs": []
    },
    {
      "cell_type": "markdown",
      "source": [
        "Here I set up and assign names to all the places that python will fetch the csv files from as well as where the output files will go."
      ],
      "metadata": {
        "id": "F-hv8JnqUCbb"
      }
    },
    {
      "cell_type": "code",
      "metadata": {
        "id": "WOMr-Zcv-Ugv"
      },
      "source": [
        "driving_df = pd.read_csv(driving_datafilename)\n",
        "speedlimit_df = pd.read_csv(speedlimit_filename)"
      ],
      "execution_count": null,
      "outputs": []
    },
    {
      "cell_type": "markdown",
      "source": [
        "Here I have pandas read the csv files into a DataFrame."
      ],
      "metadata": {
        "id": "3zZKAQvCb1sk"
      }
    },
    {
      "cell_type": "code",
      "metadata": {
        "colab": {
          "base_uri": "https://localhost:8080/"
        },
        "id": "6x8mjC01-e1s",
        "outputId": "14e112d7-bfa7-4499-9eb8-52851319459d"
      },
      "source": [
        "print(driving_df.head())"
      ],
      "execution_count": null,
      "outputs": [
        {
          "output_type": "stream",
          "name": "stdout",
          "text": [
            "   Time(minutes)  Speed(MPH)\n",
            "0          8.014    0.000000\n",
            "1          8.020    2.485485\n",
            "2          8.024    3.728227\n",
            "3          8.029    3.728227\n",
            "4          8.034    6.213712\n"
          ]
        }
      ]
    },
    {
      "cell_type": "code",
      "metadata": {
        "colab": {
          "base_uri": "https://localhost:8080/"
        },
        "id": "j67kDvfr-g-d",
        "outputId": "8f416cd6-f386-4a98-e435-747c0bffea38"
      },
      "source": [
        "print(speedlimit_df.head())"
      ],
      "execution_count": null,
      "outputs": [
        {
          "output_type": "stream",
          "name": "stdout",
          "text": [
            "   Time (minutes)   Speed Limit (MPH)\n",
            "0           0.000                  55\n",
            "1          41.361                  40\n",
            "2          43.903                  55\n",
            "3          50.813                  40\n",
            "4          52.005                  30\n"
          ]
        }
      ]
    },
    {
      "cell_type": "code",
      "metadata": {
        "id": "HwrfUhUP-nVE"
      },
      "source": [
        "def speeding(row, speed_limit):\n",
        "  in_between = speed_limit.loc[(speed_limit[\"Time (minutes)\"] <= row[\"Time(minutes)\"])]\n",
        "  in_between = in_between.sort_values(by=\"Time (minutes)\")\n",
        "\n",
        "  return True if row[\"Speed(MPH)\"] > in_between[\" Speed Limit (MPH)\"].iloc[-1] else False\n"
      ],
      "execution_count": null,
      "outputs": []
    },
    {
      "cell_type": "code",
      "metadata": {
        "id": "PuU5p96y-s1g"
      },
      "source": [
        "driving_df[\"Over Speed Limit\"] = driving_df.apply(lambda row: speeding(row, speedlimit_df), axis=1)"
      ],
      "execution_count": null,
      "outputs": []
    },
    {
      "cell_type": "markdown",
      "source": [
        "Here I apply the function I created to analyze the drivers speed to the driving_df file, and add the outputs of this function in a new column of the .csv file "
      ],
      "metadata": {
        "id": "1pgAG3U8cI5a"
      }
    },
    {
      "cell_type": "code",
      "metadata": {
        "id": "Y9YM3KV7AN5S"
      },
      "source": [
        "driving_df.to_csv(output)"
      ],
      "execution_count": null,
      "outputs": []
    },
    {
      "cell_type": "markdown",
      "source": [
        "This outputs the new csv with an added column that includes whether the driver is speeding at that specific time by including \"TRUE\" or \"FALSE\" in the corresponding cells of the new \"Over Speed Limit\" column."
      ],
      "metadata": {
        "id": "31Wkx2NdeKml"
      }
    },
    {
      "cell_type": "code",
      "source": [
        "print(len(driving_df.index))"
      ],
      "metadata": {
        "colab": {
          "base_uri": "https://localhost:8080/"
        },
        "id": "nuiEwQR1D-0I",
        "outputId": "9c41a291-fe45-4ac5-843d-4622b6074040"
      },
      "execution_count": null,
      "outputs": [
        {
          "output_type": "stream",
          "name": "stdout",
          "text": [
            "12425\n"
          ]
        }
      ]
    },
    {
      "cell_type": "code",
      "source": [
        "plt.figure()\n",
        "plt.plot(driving_df[\"Time(minutes)\"].values, driving_df[\"Speed(MPH)\"].values)\n",
        "plt.title(\"Drivers Speed\")\n",
        "plt.xlabel(\"Time (Minutes)\")\n",
        "plt.ylabel(\"Drivers Speed\")\n",
        "plt.savefig(graph, bbox_inches=\"tight\")\n",
        "plt.show()"
      ],
      "metadata": {
        "colab": {
          "base_uri": "https://localhost:8080/",
          "height": 295
        },
        "id": "ASTRuP227iuA",
        "outputId": "7caf3261-f8a1-43e5-b23c-876edd694621"
      },
      "execution_count": null,
      "outputs": [
        {
          "output_type": "display_data",
          "data": {
            "image/png": "[encoded data removed]",
            "text/plain": [
              "<Figure size 432x288 with 1 Axes>"
            ]
          },
          "metadata": {
            "needs_background": "light"
          }
        }
      ]
    }
  ]
}